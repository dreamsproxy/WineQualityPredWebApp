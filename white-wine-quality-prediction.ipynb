{
 "cells": [
  {
   "cell_type": "markdown",
   "metadata": {
    "papermill": {
     "duration": 0.025539,
     "end_time": "2020-10-03T16:52:05.199767",
     "exception": false,
     "start_time": "2020-10-03T16:52:05.174228",
     "status": "completed"
    },
    "tags": []
   },
   "source": [
    "# Task for Today  \n",
    "\n",
    "***\n",
    "\n",
    "## White Wine Quality Prediction  \n",
    "\n",
    "Given *data about various white wines*, let's try to predict the **quality** of a particular wine, according to experts.  \n",
    "  \n",
    "We will use a TensorFlow ANN to make our predictions."
   ]
  },
  {
   "cell_type": "markdown",
   "metadata": {
    "papermill": {
     "duration": 0.023578,
     "end_time": "2020-10-03T16:52:05.248226",
     "exception": false,
     "start_time": "2020-10-03T16:52:05.224648",
     "status": "completed"
    },
    "tags": []
   },
   "source": [
    "# Getting Started"
   ]
  },
  {
   "cell_type": "code",
   "execution_count": 1,
   "metadata": {
    "_cell_guid": "79c7e3d0-c299-4dcb-8224-4455121ee9b0",
    "_uuid": "d629ff2d2480ee46fbb7e2d37f6b5fab8052498a",
    "execution": {
     "iopub.execute_input": "2020-10-03T16:52:05.303905Z",
     "iopub.status.busy": "2020-10-03T16:52:05.303051Z",
     "iopub.status.idle": "2020-10-03T16:52:14.393444Z",
     "shell.execute_reply": "2020-10-03T16:52:14.392534Z"
    },
    "papermill": {
     "duration": 9.121687,
     "end_time": "2020-10-03T16:52:14.393600",
     "exception": false,
     "start_time": "2020-10-03T16:52:05.271913",
     "status": "completed"
    },
    "tags": []
   },
   "outputs": [],
   "source": [
    "import numpy as np\n",
    "import pandas as pd\n",
    "import matplotlib.pyplot as plt\n",
    "import seaborn as sns\n",
    "import plotly.express as px\n",
    "\n",
    "from sklearn.preprocessing import LabelEncoder, StandardScaler\n",
    "from sklearn.model_selection import train_test_split\n",
    "\n",
    "import tensorflow as tf"
   ]
  },
  {
   "cell_type": "code",
   "execution_count": 4,
   "metadata": {
    "execution": {
     "iopub.execute_input": "2020-10-03T16:52:14.455782Z",
     "iopub.status.busy": "2020-10-03T16:52:14.454963Z",
     "iopub.status.idle": "2020-10-03T16:52:14.492889Z",
     "shell.execute_reply": "2020-10-03T16:52:14.492050Z"
    },
    "papermill": {
     "duration": 0.073202,
     "end_time": "2020-10-03T16:52:14.493026",
     "exception": false,
     "start_time": "2020-10-03T16:52:14.419824",
     "status": "completed"
    },
    "tags": []
   },
   "outputs": [],
   "source": [
    "data = pd.read_csv('winequality-white.csv', delimiter=';')"
   ]
  },
  {
   "cell_type": "code",
   "execution_count": 5,
   "metadata": {
    "execution": {
     "iopub.execute_input": "2020-10-03T16:52:14.567199Z",
     "iopub.status.busy": "2020-10-03T16:52:14.566182Z",
     "iopub.status.idle": "2020-10-03T16:52:14.589387Z",
     "shell.execute_reply": "2020-10-03T16:52:14.589990Z"
    },
    "papermill": {
     "duration": 0.072819,
     "end_time": "2020-10-03T16:52:14.590174",
     "exception": false,
     "start_time": "2020-10-03T16:52:14.517355",
     "status": "completed"
    },
    "tags": []
   },
   "outputs": [
    {
     "data": {
      "text/html": [
       "<div>\n",
       "<style scoped>\n",
       "    .dataframe tbody tr th:only-of-type {\n",
       "        vertical-align: middle;\n",
       "    }\n",
       "\n",
       "    .dataframe tbody tr th {\n",
       "        vertical-align: top;\n",
       "    }\n",
       "\n",
       "    .dataframe thead th {\n",
       "        text-align: right;\n",
       "    }\n",
       "</style>\n",
       "<table border=\"1\" class=\"dataframe\">\n",
       "  <thead>\n",
       "    <tr style=\"text-align: right;\">\n",
       "      <th></th>\n",
       "      <th>fixed acidity</th>\n",
       "      <th>volatile acidity</th>\n",
       "      <th>citric acid</th>\n",
       "      <th>residual sugar</th>\n",
       "      <th>chlorides</th>\n",
       "      <th>free sulfur dioxide</th>\n",
       "      <th>total sulfur dioxide</th>\n",
       "      <th>density</th>\n",
       "      <th>pH</th>\n",
       "      <th>sulphates</th>\n",
       "      <th>alcohol</th>\n",
       "      <th>quality</th>\n",
       "    </tr>\n",
       "  </thead>\n",
       "  <tbody>\n",
       "    <tr>\n",
       "      <th>0</th>\n",
       "      <td>7.0</td>\n",
       "      <td>0.27</td>\n",
       "      <td>0.36</td>\n",
       "      <td>20.7</td>\n",
       "      <td>0.045</td>\n",
       "      <td>45.0</td>\n",
       "      <td>170.0</td>\n",
       "      <td>1.00100</td>\n",
       "      <td>3.00</td>\n",
       "      <td>0.45</td>\n",
       "      <td>8.8</td>\n",
       "      <td>6</td>\n",
       "    </tr>\n",
       "    <tr>\n",
       "      <th>1</th>\n",
       "      <td>6.3</td>\n",
       "      <td>0.30</td>\n",
       "      <td>0.34</td>\n",
       "      <td>1.6</td>\n",
       "      <td>0.049</td>\n",
       "      <td>14.0</td>\n",
       "      <td>132.0</td>\n",
       "      <td>0.99400</td>\n",
       "      <td>3.30</td>\n",
       "      <td>0.49</td>\n",
       "      <td>9.5</td>\n",
       "      <td>6</td>\n",
       "    </tr>\n",
       "    <tr>\n",
       "      <th>2</th>\n",
       "      <td>8.1</td>\n",
       "      <td>0.28</td>\n",
       "      <td>0.40</td>\n",
       "      <td>6.9</td>\n",
       "      <td>0.050</td>\n",
       "      <td>30.0</td>\n",
       "      <td>97.0</td>\n",
       "      <td>0.99510</td>\n",
       "      <td>3.26</td>\n",
       "      <td>0.44</td>\n",
       "      <td>10.1</td>\n",
       "      <td>6</td>\n",
       "    </tr>\n",
       "    <tr>\n",
       "      <th>3</th>\n",
       "      <td>7.2</td>\n",
       "      <td>0.23</td>\n",
       "      <td>0.32</td>\n",
       "      <td>8.5</td>\n",
       "      <td>0.058</td>\n",
       "      <td>47.0</td>\n",
       "      <td>186.0</td>\n",
       "      <td>0.99560</td>\n",
       "      <td>3.19</td>\n",
       "      <td>0.40</td>\n",
       "      <td>9.9</td>\n",
       "      <td>6</td>\n",
       "    </tr>\n",
       "    <tr>\n",
       "      <th>4</th>\n",
       "      <td>7.2</td>\n",
       "      <td>0.23</td>\n",
       "      <td>0.32</td>\n",
       "      <td>8.5</td>\n",
       "      <td>0.058</td>\n",
       "      <td>47.0</td>\n",
       "      <td>186.0</td>\n",
       "      <td>0.99560</td>\n",
       "      <td>3.19</td>\n",
       "      <td>0.40</td>\n",
       "      <td>9.9</td>\n",
       "      <td>6</td>\n",
       "    </tr>\n",
       "    <tr>\n",
       "      <th>...</th>\n",
       "      <td>...</td>\n",
       "      <td>...</td>\n",
       "      <td>...</td>\n",
       "      <td>...</td>\n",
       "      <td>...</td>\n",
       "      <td>...</td>\n",
       "      <td>...</td>\n",
       "      <td>...</td>\n",
       "      <td>...</td>\n",
       "      <td>...</td>\n",
       "      <td>...</td>\n",
       "      <td>...</td>\n",
       "    </tr>\n",
       "    <tr>\n",
       "      <th>4893</th>\n",
       "      <td>6.2</td>\n",
       "      <td>0.21</td>\n",
       "      <td>0.29</td>\n",
       "      <td>1.6</td>\n",
       "      <td>0.039</td>\n",
       "      <td>24.0</td>\n",
       "      <td>92.0</td>\n",
       "      <td>0.99114</td>\n",
       "      <td>3.27</td>\n",
       "      <td>0.50</td>\n",
       "      <td>11.2</td>\n",
       "      <td>6</td>\n",
       "    </tr>\n",
       "    <tr>\n",
       "      <th>4894</th>\n",
       "      <td>6.6</td>\n",
       "      <td>0.32</td>\n",
       "      <td>0.36</td>\n",
       "      <td>8.0</td>\n",
       "      <td>0.047</td>\n",
       "      <td>57.0</td>\n",
       "      <td>168.0</td>\n",
       "      <td>0.99490</td>\n",
       "      <td>3.15</td>\n",
       "      <td>0.46</td>\n",
       "      <td>9.6</td>\n",
       "      <td>5</td>\n",
       "    </tr>\n",
       "    <tr>\n",
       "      <th>4895</th>\n",
       "      <td>6.5</td>\n",
       "      <td>0.24</td>\n",
       "      <td>0.19</td>\n",
       "      <td>1.2</td>\n",
       "      <td>0.041</td>\n",
       "      <td>30.0</td>\n",
       "      <td>111.0</td>\n",
       "      <td>0.99254</td>\n",
       "      <td>2.99</td>\n",
       "      <td>0.46</td>\n",
       "      <td>9.4</td>\n",
       "      <td>6</td>\n",
       "    </tr>\n",
       "    <tr>\n",
       "      <th>4896</th>\n",
       "      <td>5.5</td>\n",
       "      <td>0.29</td>\n",
       "      <td>0.30</td>\n",
       "      <td>1.1</td>\n",
       "      <td>0.022</td>\n",
       "      <td>20.0</td>\n",
       "      <td>110.0</td>\n",
       "      <td>0.98869</td>\n",
       "      <td>3.34</td>\n",
       "      <td>0.38</td>\n",
       "      <td>12.8</td>\n",
       "      <td>7</td>\n",
       "    </tr>\n",
       "    <tr>\n",
       "      <th>4897</th>\n",
       "      <td>6.0</td>\n",
       "      <td>0.21</td>\n",
       "      <td>0.38</td>\n",
       "      <td>0.8</td>\n",
       "      <td>0.020</td>\n",
       "      <td>22.0</td>\n",
       "      <td>98.0</td>\n",
       "      <td>0.98941</td>\n",
       "      <td>3.26</td>\n",
       "      <td>0.32</td>\n",
       "      <td>11.8</td>\n",
       "      <td>6</td>\n",
       "    </tr>\n",
       "  </tbody>\n",
       "</table>\n",
       "<p>4898 rows × 12 columns</p>\n",
       "</div>"
      ],
      "text/plain": [
       "      fixed acidity  volatile acidity  citric acid  residual sugar  chlorides  \\\n",
       "0               7.0              0.27         0.36            20.7      0.045   \n",
       "1               6.3              0.30         0.34             1.6      0.049   \n",
       "2               8.1              0.28         0.40             6.9      0.050   \n",
       "3               7.2              0.23         0.32             8.5      0.058   \n",
       "4               7.2              0.23         0.32             8.5      0.058   \n",
       "...             ...               ...          ...             ...        ...   \n",
       "4893            6.2              0.21         0.29             1.6      0.039   \n",
       "4894            6.6              0.32         0.36             8.0      0.047   \n",
       "4895            6.5              0.24         0.19             1.2      0.041   \n",
       "4896            5.5              0.29         0.30             1.1      0.022   \n",
       "4897            6.0              0.21         0.38             0.8      0.020   \n",
       "\n",
       "      free sulfur dioxide  total sulfur dioxide  density    pH  sulphates  \\\n",
       "0                    45.0                 170.0  1.00100  3.00       0.45   \n",
       "1                    14.0                 132.0  0.99400  3.30       0.49   \n",
       "2                    30.0                  97.0  0.99510  3.26       0.44   \n",
       "3                    47.0                 186.0  0.99560  3.19       0.40   \n",
       "4                    47.0                 186.0  0.99560  3.19       0.40   \n",
       "...                   ...                   ...      ...   ...        ...   \n",
       "4893                 24.0                  92.0  0.99114  3.27       0.50   \n",
       "4894                 57.0                 168.0  0.99490  3.15       0.46   \n",
       "4895                 30.0                 111.0  0.99254  2.99       0.46   \n",
       "4896                 20.0                 110.0  0.98869  3.34       0.38   \n",
       "4897                 22.0                  98.0  0.98941  3.26       0.32   \n",
       "\n",
       "      alcohol  quality  \n",
       "0         8.8        6  \n",
       "1         9.5        6  \n",
       "2        10.1        6  \n",
       "3         9.9        6  \n",
       "4         9.9        6  \n",
       "...       ...      ...  \n",
       "4893     11.2        6  \n",
       "4894      9.6        5  \n",
       "4895      9.4        6  \n",
       "4896     12.8        7  \n",
       "4897     11.8        6  \n",
       "\n",
       "[4898 rows x 12 columns]"
      ]
     },
     "execution_count": 5,
     "metadata": {},
     "output_type": "execute_result"
    }
   ],
   "source": [
    "data"
   ]
  },
  {
   "cell_type": "markdown",
   "metadata": {
    "papermill": {
     "duration": 0.025103,
     "end_time": "2020-10-03T16:52:14.641079",
     "exception": false,
     "start_time": "2020-10-03T16:52:14.615976",
     "status": "completed"
    },
    "tags": []
   },
   "source": [
    "# Visualization"
   ]
  },
  {
   "cell_type": "code",
   "execution_count": 6,
   "metadata": {
    "execution": {
     "iopub.execute_input": "2020-10-03T16:52:14.701040Z",
     "iopub.status.busy": "2020-10-03T16:52:14.700069Z",
     "iopub.status.idle": "2020-10-03T16:52:15.625454Z",
     "shell.execute_reply": "2020-10-03T16:52:15.626078Z"
    },
    "papermill": {
     "duration": 0.959394,
     "end_time": "2020-10-03T16:52:15.626282",
     "exception": false,
     "start_time": "2020-10-03T16:52:14.666888",
     "status": "completed"
    },
    "tags": []
   },
   "outputs": [
    {
     "data": {
      "image/png": "[encoded data removed]",
      "text/plain": [
       "<Figure size 1200x1000 with 2 Axes>"
      ]
     },
     "metadata": {},
     "output_type": "display_data"
    }
   ],
   "source": [
    "corr = data.corr()\n",
    "\n",
    "plt.figure(figsize=(12, 10))\n",
    "sns.heatmap(corr, annot=True, vmin=-1.0, vmax=1.0)\n",
    "plt.show()"
   ]
  },
  {
   "cell_type": "markdown",
   "metadata": {
    "papermill": {
     "duration": 0.028182,
     "end_time": "2020-10-03T16:52:15.683232",
     "exception": false,
     "start_time": "2020-10-03T16:52:15.655050",
     "status": "completed"
    },
    "tags": []
   },
   "source": [
    "# Preprocessing"
   ]
  },
  {
   "cell_type": "code",
   "execution_count": 7,
   "metadata": {
    "execution": {
     "iopub.execute_input": "2020-10-03T16:52:15.761184Z",
     "iopub.status.busy": "2020-10-03T16:52:15.746509Z",
     "iopub.status.idle": "2020-10-03T16:52:15.766463Z",
     "shell.execute_reply": "2020-10-03T16:52:15.767365Z"
    },
    "papermill": {
     "duration": 0.056087,
     "end_time": "2020-10-03T16:52:15.767641",
     "exception": false,
     "start_time": "2020-10-03T16:52:15.711554",
     "status": "completed"
    },
    "tags": []
   },
   "outputs": [
    {
     "name": "stdout",
     "output_type": "stream",
     "text": [
      "<class 'pandas.core.frame.DataFrame'>\n",
      "RangeIndex: 4898 entries, 0 to 4897\n",
      "Data columns (total 12 columns):\n",
      " #   Column                Non-Null Count  Dtype  \n",
      "---  ------                --------------  -----  \n",
      " 0   fixed acidity         4898 non-null   float64\n",
      " 1   volatile acidity      4898 non-null   float64\n",
      " 2   citric acid           4898 non-null   float64\n",
      " 3   residual sugar        4898 non-null   float64\n",
      " 4   chlorides             4898 non-null   float64\n",
      " 5   free sulfur dioxide   4898 non-null   float64\n",
      " 6   total sulfur dioxide  4898 non-null   float64\n",
      " 7   density               4898 non-null   float64\n",
      " 8   pH                    4898 non-null   float64\n",
      " 9   sulphates             4898 non-null   float64\n",
      " 10  alcohol               4898 non-null   float64\n",
      " 11  quality               4898 non-null   int64  \n",
      "dtypes: float64(11), int64(1)\n",
      "memory usage: 459.3 KB\n"
     ]
    }
   ],
   "source": [
    "data.info()"
   ]
  },
  {
   "cell_type": "code",
   "execution_count": 8,
   "metadata": {
    "execution": {
     "iopub.execute_input": "2020-10-03T16:52:15.834957Z",
     "iopub.status.busy": "2020-10-03T16:52:15.834188Z",
     "iopub.status.idle": "2020-10-03T16:52:15.841562Z",
     "shell.execute_reply": "2020-10-03T16:52:15.840788Z"
    },
    "papermill": {
     "duration": 0.044282,
     "end_time": "2020-10-03T16:52:15.841699",
     "exception": false,
     "start_time": "2020-10-03T16:52:15.797417",
     "status": "completed"
    },
    "tags": []
   },
   "outputs": [
    {
     "name": "stdout",
     "output_type": "stream",
     "text": [
      "Total null values: 0\n"
     ]
    }
   ],
   "source": [
    "print(\"Total null values:\", data.isna().sum().sum())"
   ]
  },
  {
   "cell_type": "code",
   "execution_count": 9,
   "metadata": {
    "execution": {
     "iopub.execute_input": "2020-10-03T16:52:15.910163Z",
     "iopub.status.busy": "2020-10-03T16:52:15.909305Z",
     "iopub.status.idle": "2020-10-03T16:52:15.915266Z",
     "shell.execute_reply": "2020-10-03T16:52:15.914453Z"
    },
    "papermill": {
     "duration": 0.043662,
     "end_time": "2020-10-03T16:52:15.915403",
     "exception": false,
     "start_time": "2020-10-03T16:52:15.871741",
     "status": "completed"
    },
    "tags": []
   },
   "outputs": [
    {
     "data": {
      "text/plain": [
       "array([6, 5, 7, 8, 4, 3, 9], dtype=int64)"
      ]
     },
     "execution_count": 9,
     "metadata": {},
     "output_type": "execute_result"
    }
   ],
   "source": [
    "data['quality'].unique()"
   ]
  },
  {
   "cell_type": "code",
   "execution_count": 10,
   "metadata": {
    "execution": {
     "iopub.execute_input": "2020-10-03T16:52:15.986751Z",
     "iopub.status.busy": "2020-10-03T16:52:15.984747Z",
     "iopub.status.idle": "2020-10-03T16:52:15.992767Z",
     "shell.execute_reply": "2020-10-03T16:52:15.991984Z"
    },
    "papermill": {
     "duration": 0.046867,
     "end_time": "2020-10-03T16:52:15.992905",
     "exception": false,
     "start_time": "2020-10-03T16:52:15.946038",
     "status": "completed"
    },
    "tags": []
   },
   "outputs": [
    {
     "data": {
      "text/plain": [
       "{0: 3, 1: 4, 2: 5, 3: 6, 4: 7, 5: 8, 6: 9}"
      ]
     },
     "execution_count": 10,
     "metadata": {},
     "output_type": "execute_result"
    }
   ],
   "source": [
    "encoder = LabelEncoder()\n",
    "\n",
    "data['quality'] = encoder.fit_transform(data['quality'])\n",
    "{index: label for index, label in enumerate(encoder.classes_)}"
   ]
  },
  {
   "cell_type": "code",
   "execution_count": 11,
   "metadata": {
    "execution": {
     "iopub.execute_input": "2020-10-03T16:52:16.066471Z",
     "iopub.status.busy": "2020-10-03T16:52:16.065418Z",
     "iopub.status.idle": "2020-10-03T16:52:16.069405Z",
     "shell.execute_reply": "2020-10-03T16:52:16.068613Z"
    },
    "papermill": {
     "duration": 0.045219,
     "end_time": "2020-10-03T16:52:16.069544",
     "exception": false,
     "start_time": "2020-10-03T16:52:16.024325",
     "status": "completed"
    },
    "tags": []
   },
   "outputs": [],
   "source": [
    "y = data['quality']\n",
    "X = data.drop('quality', axis=1)"
   ]
  },
  {
   "cell_type": "code",
   "execution_count": 12,
   "metadata": {
    "execution": {
     "iopub.execute_input": "2020-10-03T16:52:16.142067Z",
     "iopub.status.busy": "2020-10-03T16:52:16.140899Z",
     "iopub.status.idle": "2020-10-03T16:52:16.150338Z",
     "shell.execute_reply": "2020-10-03T16:52:16.149498Z"
    },
    "papermill": {
     "duration": 0.049951,
     "end_time": "2020-10-03T16:52:16.150477",
     "exception": false,
     "start_time": "2020-10-03T16:52:16.100526",
     "status": "completed"
    },
    "tags": []
   },
   "outputs": [],
   "source": [
    "scaler = StandardScaler()\n",
    "\n",
    "X = pd.DataFrame(scaler.fit_transform(X), columns=X.columns)"
   ]
  },
  {
   "cell_type": "code",
   "execution_count": 13,
   "metadata": {
    "execution": {
     "iopub.execute_input": "2020-10-03T16:52:16.238581Z",
     "iopub.status.busy": "2020-10-03T16:52:16.237598Z",
     "iopub.status.idle": "2020-10-03T16:52:16.243654Z",
     "shell.execute_reply": "2020-10-03T16:52:16.242888Z"
    },
    "papermill": {
     "duration": 0.061737,
     "end_time": "2020-10-03T16:52:16.243781",
     "exception": false,
     "start_time": "2020-10-03T16:52:16.182044",
     "status": "completed"
    },
    "tags": []
   },
   "outputs": [
    {
     "data": {
      "text/html": [
       "<div>\n",
       "<style scoped>\n",
       "    .dataframe tbody tr th:only-of-type {\n",
       "        vertical-align: middle;\n",
       "    }\n",
       "\n",
       "    .dataframe tbody tr th {\n",
       "        vertical-align: top;\n",
       "    }\n",
       "\n",
       "    .dataframe thead th {\n",
       "        text-align: right;\n",
       "    }\n",
       "</style>\n",
       "<table border=\"1\" class=\"dataframe\">\n",
       "  <thead>\n",
       "    <tr style=\"text-align: right;\">\n",
       "      <th></th>\n",
       "      <th>fixed acidity</th>\n",
       "      <th>volatile acidity</th>\n",
       "      <th>citric acid</th>\n",
       "      <th>residual sugar</th>\n",
       "      <th>chlorides</th>\n",
       "      <th>free sulfur dioxide</th>\n",
       "      <th>total sulfur dioxide</th>\n",
       "      <th>density</th>\n",
       "      <th>pH</th>\n",
       "      <th>sulphates</th>\n",
       "      <th>alcohol</th>\n",
       "    </tr>\n",
       "  </thead>\n",
       "  <tbody>\n",
       "    <tr>\n",
       "      <th>0</th>\n",
       "      <td>0.172097</td>\n",
       "      <td>-0.081770</td>\n",
       "      <td>0.213280</td>\n",
       "      <td>2.821349</td>\n",
       "      <td>-0.035355</td>\n",
       "      <td>0.569932</td>\n",
       "      <td>0.744565</td>\n",
       "      <td>2.331512</td>\n",
       "      <td>-1.246921</td>\n",
       "      <td>-0.349184</td>\n",
       "      <td>-1.393152</td>\n",
       "    </tr>\n",
       "    <tr>\n",
       "      <th>1</th>\n",
       "      <td>-0.657501</td>\n",
       "      <td>0.215896</td>\n",
       "      <td>0.048001</td>\n",
       "      <td>-0.944765</td>\n",
       "      <td>0.147747</td>\n",
       "      <td>-1.253019</td>\n",
       "      <td>-0.149685</td>\n",
       "      <td>-0.009154</td>\n",
       "      <td>0.740029</td>\n",
       "      <td>0.001342</td>\n",
       "      <td>-0.824276</td>\n",
       "    </tr>\n",
       "    <tr>\n",
       "      <th>2</th>\n",
       "      <td>1.475751</td>\n",
       "      <td>0.017452</td>\n",
       "      <td>0.543838</td>\n",
       "      <td>0.100282</td>\n",
       "      <td>0.193523</td>\n",
       "      <td>-0.312141</td>\n",
       "      <td>-0.973336</td>\n",
       "      <td>0.358665</td>\n",
       "      <td>0.475102</td>\n",
       "      <td>-0.436816</td>\n",
       "      <td>-0.336667</td>\n",
       "    </tr>\n",
       "    <tr>\n",
       "      <th>3</th>\n",
       "      <td>0.409125</td>\n",
       "      <td>-0.478657</td>\n",
       "      <td>-0.117278</td>\n",
       "      <td>0.415768</td>\n",
       "      <td>0.559727</td>\n",
       "      <td>0.687541</td>\n",
       "      <td>1.121091</td>\n",
       "      <td>0.525855</td>\n",
       "      <td>0.011480</td>\n",
       "      <td>-0.787342</td>\n",
       "      <td>-0.499203</td>\n",
       "    </tr>\n",
       "    <tr>\n",
       "      <th>4</th>\n",
       "      <td>0.409125</td>\n",
       "      <td>-0.478657</td>\n",
       "      <td>-0.117278</td>\n",
       "      <td>0.415768</td>\n",
       "      <td>0.559727</td>\n",
       "      <td>0.687541</td>\n",
       "      <td>1.121091</td>\n",
       "      <td>0.525855</td>\n",
       "      <td>0.011480</td>\n",
       "      <td>-0.787342</td>\n",
       "      <td>-0.499203</td>\n",
       "    </tr>\n",
       "    <tr>\n",
       "      <th>...</th>\n",
       "      <td>...</td>\n",
       "      <td>...</td>\n",
       "      <td>...</td>\n",
       "      <td>...</td>\n",
       "      <td>...</td>\n",
       "      <td>...</td>\n",
       "      <td>...</td>\n",
       "      <td>...</td>\n",
       "      <td>...</td>\n",
       "      <td>...</td>\n",
       "      <td>...</td>\n",
       "    </tr>\n",
       "    <tr>\n",
       "      <th>4893</th>\n",
       "      <td>-0.776015</td>\n",
       "      <td>-0.677101</td>\n",
       "      <td>-0.365197</td>\n",
       "      <td>-0.944765</td>\n",
       "      <td>-0.310008</td>\n",
       "      <td>-0.664970</td>\n",
       "      <td>-1.091000</td>\n",
       "      <td>-0.965483</td>\n",
       "      <td>0.541334</td>\n",
       "      <td>0.088973</td>\n",
       "      <td>0.557282</td>\n",
       "    </tr>\n",
       "    <tr>\n",
       "      <th>4894</th>\n",
       "      <td>-0.301959</td>\n",
       "      <td>0.414339</td>\n",
       "      <td>0.213280</td>\n",
       "      <td>0.317179</td>\n",
       "      <td>0.056196</td>\n",
       "      <td>1.275590</td>\n",
       "      <td>0.697499</td>\n",
       "      <td>0.291789</td>\n",
       "      <td>-0.253446</td>\n",
       "      <td>-0.261553</td>\n",
       "      <td>-0.743008</td>\n",
       "    </tr>\n",
       "    <tr>\n",
       "      <th>4895</th>\n",
       "      <td>-0.420473</td>\n",
       "      <td>-0.379435</td>\n",
       "      <td>-1.191592</td>\n",
       "      <td>-1.023637</td>\n",
       "      <td>-0.218457</td>\n",
       "      <td>-0.312141</td>\n",
       "      <td>-0.643875</td>\n",
       "      <td>-0.497350</td>\n",
       "      <td>-1.313153</td>\n",
       "      <td>-0.261553</td>\n",
       "      <td>-0.905544</td>\n",
       "    </tr>\n",
       "    <tr>\n",
       "      <th>4896</th>\n",
       "      <td>-1.605613</td>\n",
       "      <td>0.116674</td>\n",
       "      <td>-0.282557</td>\n",
       "      <td>-1.043355</td>\n",
       "      <td>-1.088192</td>\n",
       "      <td>-0.900190</td>\n",
       "      <td>-0.667408</td>\n",
       "      <td>-1.784717</td>\n",
       "      <td>1.004955</td>\n",
       "      <td>-0.962605</td>\n",
       "      <td>1.857572</td>\n",
       "    </tr>\n",
       "    <tr>\n",
       "      <th>4897</th>\n",
       "      <td>-1.013043</td>\n",
       "      <td>-0.677101</td>\n",
       "      <td>0.378559</td>\n",
       "      <td>-1.102508</td>\n",
       "      <td>-1.179743</td>\n",
       "      <td>-0.782580</td>\n",
       "      <td>-0.949803</td>\n",
       "      <td>-1.543962</td>\n",
       "      <td>0.475102</td>\n",
       "      <td>-1.488394</td>\n",
       "      <td>1.044891</td>\n",
       "    </tr>\n",
       "  </tbody>\n",
       "</table>\n",
       "<p>4898 rows × 11 columns</p>\n",
       "</div>"
      ],
      "text/plain": [
       "      fixed acidity  volatile acidity  citric acid  residual sugar  chlorides  \\\n",
       "0          0.172097         -0.081770     0.213280        2.821349  -0.035355   \n",
       "1         -0.657501          0.215896     0.048001       -0.944765   0.147747   \n",
       "2          1.475751          0.017452     0.543838        0.100282   0.193523   \n",
       "3          0.409125         -0.478657    -0.117278        0.415768   0.559727   \n",
       "4          0.409125         -0.478657    -0.117278        0.415768   0.559727   \n",
       "...             ...               ...          ...             ...        ...   \n",
       "4893      -0.776015         -0.677101    -0.365197       -0.944765  -0.310008   \n",
       "4894      -0.301959          0.414339     0.213280        0.317179   0.056196   \n",
       "4895      -0.420473         -0.379435    -1.191592       -1.023637  -0.218457   \n",
       "4896      -1.605613          0.116674    -0.282557       -1.043355  -1.088192   \n",
       "4897      -1.013043         -0.677101     0.378559       -1.102508  -1.179743   \n",
       "\n",
       "      free sulfur dioxide  total sulfur dioxide   density        pH  \\\n",
       "0                0.569932              0.744565  2.331512 -1.246921   \n",
       "1               -1.253019             -0.149685 -0.009154  0.740029   \n",
       "2               -0.312141             -0.973336  0.358665  0.475102   \n",
       "3                0.687541              1.121091  0.525855  0.011480   \n",
       "4                0.687541              1.121091  0.525855  0.011480   \n",
       "...                   ...                   ...       ...       ...   \n",
       "4893            -0.664970             -1.091000 -0.965483  0.541334   \n",
       "4894             1.275590              0.697499  0.291789 -0.253446   \n",
       "4895            -0.312141             -0.643875 -0.497350 -1.313153   \n",
       "4896            -0.900190             -0.667408 -1.784717  1.004955   \n",
       "4897            -0.782580             -0.949803 -1.543962  0.475102   \n",
       "\n",
       "      sulphates   alcohol  \n",
       "0     -0.349184 -1.393152  \n",
       "1      0.001342 -0.824276  \n",
       "2     -0.436816 -0.336667  \n",
       "3     -0.787342 -0.499203  \n",
       "4     -0.787342 -0.499203  \n",
       "...         ...       ...  \n",
       "4893   0.088973  0.557282  \n",
       "4894  -0.261553 -0.743008  \n",
       "4895  -0.261553 -0.905544  \n",
       "4896  -0.962605  1.857572  \n",
       "4897  -1.488394  1.044891  \n",
       "\n",
       "[4898 rows x 11 columns]"
      ]
     },
     "execution_count": 13,
     "metadata": {},
     "output_type": "execute_result"
    }
   ],
   "source": [
    "X"
   ]
  },
  {
   "cell_type": "code",
   "execution_count": 46,
   "metadata": {
    "execution": {
     "iopub.execute_input": "2020-10-03T16:52:16.317106Z",
     "iopub.status.busy": "2020-10-03T16:52:16.316350Z",
     "iopub.status.idle": "2020-10-03T16:52:16.322620Z",
     "shell.execute_reply": "2020-10-03T16:52:16.321825Z"
    },
    "papermill": {
     "duration": 0.045966,
     "end_time": "2020-10-03T16:52:16.322750",
     "exception": false,
     "start_time": "2020-10-03T16:52:16.276784",
     "status": "completed"
    },
    "tags": []
   },
   "outputs": [],
   "source": [
    "X_train, X_test, y_train, y_test = train_test_split(X, y, train_size=0.7, random_state=42)"
   ]
  },
  {
   "cell_type": "markdown",
   "metadata": {
    "papermill": {
     "duration": 0.032098,
     "end_time": "2020-10-03T16:52:16.386972",
     "exception": false,
     "start_time": "2020-10-03T16:52:16.354874",
     "status": "completed"
    },
    "tags": []
   },
   "source": [
    "# Modeling and Training"
   ]
  },
  {
   "cell_type": "code",
   "execution_count": 47,
   "metadata": {
    "execution": {
     "iopub.execute_input": "2020-10-03T16:52:16.462372Z",
     "iopub.status.busy": "2020-10-03T16:52:16.461573Z",
     "iopub.status.idle": "2020-10-03T16:52:16.465584Z",
     "shell.execute_reply": "2020-10-03T16:52:16.464878Z"
    },
    "papermill": {
     "duration": 0.045323,
     "end_time": "2020-10-03T16:52:16.465724",
     "exception": false,
     "start_time": "2020-10-03T16:52:16.420401",
     "status": "completed"
    },
    "tags": []
   },
   "outputs": [
    {
     "name": "stdout",
     "output_type": "stream",
     "text": [
      "11\n"
     ]
    }
   ],
   "source": [
    "num_features = X.shape[1]\n",
    "print(num_features)"
   ]
  },
  {
   "cell_type": "code",
   "execution_count": 48,
   "metadata": {
    "execution": {
     "iopub.execute_input": "2020-10-03T16:52:16.539712Z",
     "iopub.status.busy": "2020-10-03T16:52:16.538727Z",
     "iopub.status.idle": "2020-10-03T16:52:16.543859Z",
     "shell.execute_reply": "2020-10-03T16:52:16.542413Z"
    },
    "papermill": {
     "duration": 0.045675,
     "end_time": "2020-10-03T16:52:16.544055",
     "exception": false,
     "start_time": "2020-10-03T16:52:16.498380",
     "status": "completed"
    },
    "tags": []
   },
   "outputs": [
    {
     "name": "stdout",
     "output_type": "stream",
     "text": [
      "2\n"
     ]
    }
   ],
   "source": [
    "num_classes = len(y.unique())\n",
    "print(num_classes)"
   ]
  },
  {
   "cell_type": "code",
   "execution_count": 43,
   "metadata": {
    "execution": {
     "iopub.execute_input": "2020-10-03T16:52:16.624056Z",
     "iopub.status.busy": "2020-10-03T16:52:16.623253Z",
     "iopub.status.idle": "2020-10-03T16:52:34.632732Z",
     "shell.execute_reply": "2020-10-03T16:52:34.633453Z"
    },
    "papermill": {
     "duration": 18.055681,
     "end_time": "2020-10-03T16:52:34.633645",
     "exception": false,
     "start_time": "2020-10-03T16:52:16.577964",
     "status": "completed"
    },
    "tags": []
   },
   "outputs": [
    {
     "name": "stdout",
     "output_type": "stream",
     "text": [
      "Epoch 1/100\n"
     ]
    },
    {
     "name": "stderr",
     "output_type": "stream",
     "text": [
      "c:\\Users\\chang\\anaconda3\\envs\\tf\\lib\\site-packages\\keras\\engine\\data_adapter.py:1506: FutureWarning:\n",
      "\n",
      "The behavior of `series[i:j]` with an integer-dtype index is deprecated. In a future version, this will be treated as *label-based* indexing, consistent with e.g. `series[i]` lookups. To retain the old behavior, use `series.iloc[i:j]`. To get the future behavior, use `series.loc[i:j]`.\n",
      "\n"
     ]
    },
    {
     "name": "stdout",
     "output_type": "stream",
     "text": [
      "86/86 [==============================] - 1s 8ms/step - loss: 0.7759 - accuracy: 0.6437 - val_loss: 0.4891 - val_accuracy: 0.7843 - lr: 0.0010\n",
      "Epoch 2/100\n",
      "86/86 [==============================] - 0s 5ms/step - loss: 0.5433 - accuracy: 0.7454 - val_loss: 0.4542 - val_accuracy: 0.7901 - lr: 0.0010\n",
      "Epoch 3/100\n",
      "86/86 [==============================] - 0s 5ms/step - loss: 0.4902 - accuracy: 0.7750 - val_loss: 0.4421 - val_accuracy: 0.7974 - lr: 0.0010\n",
      "Epoch 4/100\n",
      "86/86 [==============================] - 0s 5ms/step - loss: 0.4388 - accuracy: 0.7994 - val_loss: 0.4260 - val_accuracy: 0.8061 - lr: 0.0010\n",
      "Epoch 5/100\n",
      "86/86 [==============================] - 0s 6ms/step - loss: 0.4294 - accuracy: 0.8100 - val_loss: 0.4147 - val_accuracy: 0.8047 - lr: 0.0010\n",
      "Epoch 6/100\n",
      "86/86 [==============================] - 1s 6ms/step - loss: 0.4154 - accuracy: 0.8096 - val_loss: 0.4147 - val_accuracy: 0.8032 - lr: 0.0010\n",
      "Epoch 7/100\n",
      "86/86 [==============================] - 0s 6ms/step - loss: 0.4043 - accuracy: 0.8074 - val_loss: 0.4158 - val_accuracy: 0.8003 - lr: 0.0010\n",
      "Epoch 8/100\n",
      "86/86 [==============================] - 0s 5ms/step - loss: 0.3927 - accuracy: 0.8231 - val_loss: 0.4055 - val_accuracy: 0.8090 - lr: 0.0010\n",
      "Epoch 9/100\n",
      "86/86 [==============================] - 0s 5ms/step - loss: 0.3741 - accuracy: 0.8235 - val_loss: 0.4065 - val_accuracy: 0.8017 - lr: 0.0010\n",
      "Epoch 10/100\n",
      "86/86 [==============================] - 0s 5ms/step - loss: 0.3797 - accuracy: 0.8242 - val_loss: 0.4003 - val_accuracy: 0.8032 - lr: 0.0010\n",
      "Epoch 11/100\n",
      "86/86 [==============================] - 0s 5ms/step - loss: 0.3785 - accuracy: 0.8187 - val_loss: 0.3948 - val_accuracy: 0.8134 - lr: 0.0010\n",
      "Epoch 12/100\n",
      "86/86 [==============================] - 0s 5ms/step - loss: 0.3799 - accuracy: 0.8184 - val_loss: 0.3953 - val_accuracy: 0.8105 - lr: 0.0010\n",
      "Epoch 13/100\n",
      "86/86 [==============================] - 0s 5ms/step - loss: 0.3646 - accuracy: 0.8231 - val_loss: 0.4025 - val_accuracy: 0.7974 - lr: 0.0010\n",
      "Epoch 14/100\n",
      "86/86 [==============================] - 1s 7ms/step - loss: 0.3510 - accuracy: 0.8304 - val_loss: 0.4030 - val_accuracy: 0.8032 - lr: 0.0010\n",
      "Epoch 15/100\n",
      "86/86 [==============================] - 0s 6ms/step - loss: 0.3534 - accuracy: 0.8253 - val_loss: 0.4152 - val_accuracy: 0.8090 - lr: 0.0010\n",
      "Epoch 16/100\n",
      "86/86 [==============================] - 0s 5ms/step - loss: 0.3546 - accuracy: 0.8311 - val_loss: 0.4042 - val_accuracy: 0.8120 - lr: 0.0010\n",
      "Epoch 17/100\n",
      "86/86 [==============================] - 0s 5ms/step - loss: 0.3364 - accuracy: 0.8352 - val_loss: 0.3969 - val_accuracy: 0.8047 - lr: 0.0010\n",
      "Epoch 18/100\n",
      "86/86 [==============================] - 0s 6ms/step - loss: 0.3436 - accuracy: 0.8381 - val_loss: 0.3982 - val_accuracy: 0.8192 - lr: 0.0010\n",
      "Epoch 19/100\n",
      "86/86 [==============================] - 0s 5ms/step - loss: 0.3404 - accuracy: 0.8366 - val_loss: 0.4059 - val_accuracy: 0.8003 - lr: 0.0010\n",
      "Epoch 20/100\n",
      "86/86 [==============================] - 0s 5ms/step - loss: 0.3393 - accuracy: 0.8304 - val_loss: 0.3978 - val_accuracy: 0.8134 - lr: 0.0010\n",
      "Epoch 21/100\n",
      "86/86 [==============================] - 0s 5ms/step - loss: 0.3369 - accuracy: 0.8363 - val_loss: 0.3972 - val_accuracy: 0.8076 - lr: 0.0010\n",
      "Epoch 22/100\n",
      "86/86 [==============================] - 0s 5ms/step - loss: 0.3243 - accuracy: 0.8450 - val_loss: 0.3930 - val_accuracy: 0.8149 - lr: 1.0000e-04\n",
      "Epoch 23/100\n",
      "86/86 [==============================] - 0s 5ms/step - loss: 0.3201 - accuracy: 0.8414 - val_loss: 0.3921 - val_accuracy: 0.8163 - lr: 1.0000e-04\n",
      "Epoch 24/100\n",
      "86/86 [==============================] - 0s 6ms/step - loss: 0.3175 - accuracy: 0.8450 - val_loss: 0.3920 - val_accuracy: 0.8178 - lr: 1.0000e-04\n",
      "Epoch 25/100\n",
      "86/86 [==============================] - 0s 5ms/step - loss: 0.3110 - accuracy: 0.8446 - val_loss: 0.3908 - val_accuracy: 0.8178 - lr: 1.0000e-04\n",
      "Epoch 26/100\n",
      "86/86 [==============================] - 0s 5ms/step - loss: 0.3065 - accuracy: 0.8534 - val_loss: 0.3919 - val_accuracy: 0.8134 - lr: 1.0000e-04\n",
      "Epoch 27/100\n",
      "86/86 [==============================] - 0s 5ms/step - loss: 0.2981 - accuracy: 0.8658 - val_loss: 0.3938 - val_accuracy: 0.8192 - lr: 1.0000e-04\n",
      "Epoch 28/100\n",
      "86/86 [==============================] - 0s 5ms/step - loss: 0.3067 - accuracy: 0.8614 - val_loss: 0.3956 - val_accuracy: 0.8178 - lr: 1.0000e-04\n",
      "Epoch 29/100\n",
      "86/86 [==============================] - 0s 5ms/step - loss: 0.3000 - accuracy: 0.8541 - val_loss: 0.3956 - val_accuracy: 0.8163 - lr: 1.0000e-04\n",
      "Epoch 30/100\n",
      "86/86 [==============================] - 0s 5ms/step - loss: 0.2983 - accuracy: 0.8629 - val_loss: 0.3966 - val_accuracy: 0.8236 - lr: 1.0000e-04\n",
      "Epoch 31/100\n",
      "86/86 [==============================] - 0s 5ms/step - loss: 0.2912 - accuracy: 0.8589 - val_loss: 0.3994 - val_accuracy: 0.8222 - lr: 1.0000e-04\n",
      "Epoch 32/100\n",
      "86/86 [==============================] - 0s 5ms/step - loss: 0.2959 - accuracy: 0.8585 - val_loss: 0.4043 - val_accuracy: 0.8134 - lr: 1.0000e-04\n",
      "Epoch 33/100\n",
      "86/86 [==============================] - 0s 5ms/step - loss: 0.2987 - accuracy: 0.8552 - val_loss: 0.4062 - val_accuracy: 0.8236 - lr: 1.0000e-04\n",
      "Epoch 34/100\n",
      "86/86 [==============================] - 0s 5ms/step - loss: 0.2965 - accuracy: 0.8643 - val_loss: 0.4043 - val_accuracy: 0.8265 - lr: 1.0000e-04\n",
      "Epoch 35/100\n",
      "86/86 [==============================] - 0s 5ms/step - loss: 0.3000 - accuracy: 0.8662 - val_loss: 0.4034 - val_accuracy: 0.8163 - lr: 1.0000e-04\n",
      "Epoch 36/100\n",
      "86/86 [==============================] - 0s 6ms/step - loss: 0.2866 - accuracy: 0.8680 - val_loss: 0.4035 - val_accuracy: 0.8149 - lr: 1.0000e-05\n",
      "Epoch 37/100\n",
      "86/86 [==============================] - 0s 5ms/step - loss: 0.2941 - accuracy: 0.8611 - val_loss: 0.4032 - val_accuracy: 0.8149 - lr: 1.0000e-05\n",
      "Epoch 38/100\n",
      "86/86 [==============================] - 0s 5ms/step - loss: 0.2902 - accuracy: 0.8625 - val_loss: 0.4038 - val_accuracy: 0.8149 - lr: 1.0000e-05\n",
      "Epoch 39/100\n",
      "86/86 [==============================] - 0s 5ms/step - loss: 0.3037 - accuracy: 0.8487 - val_loss: 0.4029 - val_accuracy: 0.8163 - lr: 1.0000e-05\n",
      "Epoch 40/100\n",
      "86/86 [==============================] - 0s 5ms/step - loss: 0.2872 - accuracy: 0.8632 - val_loss: 0.4036 - val_accuracy: 0.8163 - lr: 1.0000e-05\n",
      "Epoch 41/100\n",
      "86/86 [==============================] - 0s 5ms/step - loss: 0.2905 - accuracy: 0.8662 - val_loss: 0.4041 - val_accuracy: 0.8149 - lr: 1.0000e-05\n",
      "Epoch 42/100\n",
      "86/86 [==============================] - 0s 5ms/step - loss: 0.2949 - accuracy: 0.8607 - val_loss: 0.4024 - val_accuracy: 0.8163 - lr: 1.0000e-05\n",
      "Epoch 43/100\n",
      "86/86 [==============================] - 0s 5ms/step - loss: 0.2899 - accuracy: 0.8676 - val_loss: 0.4023 - val_accuracy: 0.8178 - lr: 1.0000e-05\n",
      "Epoch 44/100\n",
      "86/86 [==============================] - 0s 5ms/step - loss: 0.2967 - accuracy: 0.8629 - val_loss: 0.4026 - val_accuracy: 0.8163 - lr: 1.0000e-05\n",
      "Epoch 45/100\n",
      "86/86 [==============================] - 0s 5ms/step - loss: 0.2993 - accuracy: 0.8589 - val_loss: 0.4019 - val_accuracy: 0.8163 - lr: 1.0000e-05\n",
      "Epoch 46/100\n",
      "86/86 [==============================] - 0s 5ms/step - loss: 0.2970 - accuracy: 0.8603 - val_loss: 0.4023 - val_accuracy: 0.8163 - lr: 1.0000e-06\n",
      "Epoch 47/100\n",
      "86/86 [==============================] - 0s 5ms/step - loss: 0.2958 - accuracy: 0.8654 - val_loss: 0.4019 - val_accuracy: 0.8207 - lr: 1.0000e-06\n",
      "Epoch 48/100\n",
      "86/86 [==============================] - 0s 5ms/step - loss: 0.2785 - accuracy: 0.8716 - val_loss: 0.4019 - val_accuracy: 0.8163 - lr: 1.0000e-06\n",
      "Epoch 49/100\n",
      "86/86 [==============================] - 0s 5ms/step - loss: 0.2894 - accuracy: 0.8665 - val_loss: 0.4025 - val_accuracy: 0.8163 - lr: 1.0000e-06\n",
      "Epoch 50/100\n",
      "86/86 [==============================] - 0s 5ms/step - loss: 0.2952 - accuracy: 0.8621 - val_loss: 0.4025 - val_accuracy: 0.8163 - lr: 1.0000e-06\n",
      "Epoch 51/100\n",
      "86/86 [==============================] - 0s 5ms/step - loss: 0.2880 - accuracy: 0.8600 - val_loss: 0.4020 - val_accuracy: 0.8163 - lr: 1.0000e-06\n",
      "Epoch 52/100\n",
      "86/86 [==============================] - 0s 5ms/step - loss: 0.2819 - accuracy: 0.8705 - val_loss: 0.4022 - val_accuracy: 0.8163 - lr: 1.0000e-06\n",
      "Epoch 53/100\n",
      "86/86 [==============================] - 0s 5ms/step - loss: 0.2936 - accuracy: 0.8589 - val_loss: 0.4027 - val_accuracy: 0.8163 - lr: 1.0000e-06\n",
      "Epoch 54/100\n",
      "86/86 [==============================] - 0s 5ms/step - loss: 0.2851 - accuracy: 0.8738 - val_loss: 0.4022 - val_accuracy: 0.8163 - lr: 1.0000e-06\n",
      "Epoch 55/100\n",
      "86/86 [==============================] - 0s 5ms/step - loss: 0.2890 - accuracy: 0.8665 - val_loss: 0.4021 - val_accuracy: 0.8163 - lr: 1.0000e-06\n",
      "Epoch 56/100\n",
      "86/86 [==============================] - 0s 5ms/step - loss: 0.2854 - accuracy: 0.8742 - val_loss: 0.4026 - val_accuracy: 0.8163 - lr: 1.0000e-07\n",
      "Epoch 57/100\n",
      "86/86 [==============================] - 0s 5ms/step - loss: 0.2764 - accuracy: 0.8742 - val_loss: 0.4018 - val_accuracy: 0.8163 - lr: 1.0000e-07\n",
      "Epoch 58/100\n",
      "86/86 [==============================] - 0s 5ms/step - loss: 0.2964 - accuracy: 0.8625 - val_loss: 0.4022 - val_accuracy: 0.8178 - lr: 1.0000e-07\n",
      "Epoch 59/100\n",
      "86/86 [==============================] - 0s 5ms/step - loss: 0.2904 - accuracy: 0.8662 - val_loss: 0.4018 - val_accuracy: 0.8192 - lr: 1.0000e-07\n",
      "Epoch 60/100\n",
      "86/86 [==============================] - 0s 5ms/step - loss: 0.2887 - accuracy: 0.8691 - val_loss: 0.4019 - val_accuracy: 0.8178 - lr: 1.0000e-07\n",
      "Epoch 61/100\n",
      "86/86 [==============================] - 0s 5ms/step - loss: 0.2925 - accuracy: 0.8625 - val_loss: 0.4022 - val_accuracy: 0.8178 - lr: 1.0000e-07\n",
      "Epoch 62/100\n",
      "86/86 [==============================] - 0s 5ms/step - loss: 0.2895 - accuracy: 0.8654 - val_loss: 0.4014 - val_accuracy: 0.8178 - lr: 1.0000e-07\n",
      "Epoch 63/100\n",
      "86/86 [==============================] - 0s 5ms/step - loss: 0.2915 - accuracy: 0.8629 - val_loss: 0.4011 - val_accuracy: 0.8178 - lr: 1.0000e-07\n",
      "Epoch 64/100\n",
      "86/86 [==============================] - 0s 5ms/step - loss: 0.2841 - accuracy: 0.8640 - val_loss: 0.4012 - val_accuracy: 0.8178 - lr: 1.0000e-07\n",
      "Epoch 65/100\n",
      "86/86 [==============================] - 0s 5ms/step - loss: 0.2840 - accuracy: 0.8629 - val_loss: 0.4015 - val_accuracy: 0.8163 - lr: 1.0000e-07\n",
      "Epoch 66/100\n",
      "86/86 [==============================] - 0s 5ms/step - loss: 0.2890 - accuracy: 0.8651 - val_loss: 0.4023 - val_accuracy: 0.8163 - lr: 1.0000e-08\n",
      "Epoch 67/100\n",
      "86/86 [==============================] - 0s 5ms/step - loss: 0.2925 - accuracy: 0.8629 - val_loss: 0.4021 - val_accuracy: 0.8163 - lr: 1.0000e-08\n",
      "Epoch 68/100\n",
      "86/86 [==============================] - 0s 5ms/step - loss: 0.2810 - accuracy: 0.8607 - val_loss: 0.4023 - val_accuracy: 0.8178 - lr: 1.0000e-08\n",
      "Epoch 69/100\n",
      "86/86 [==============================] - 1s 6ms/step - loss: 0.2863 - accuracy: 0.8640 - val_loss: 0.4016 - val_accuracy: 0.8178 - lr: 1.0000e-08\n",
      "Epoch 70/100\n",
      "86/86 [==============================] - 0s 5ms/step - loss: 0.2794 - accuracy: 0.8669 - val_loss: 0.4010 - val_accuracy: 0.8178 - lr: 1.0000e-08\n",
      "Epoch 71/100\n",
      "86/86 [==============================] - 1s 6ms/step - loss: 0.2901 - accuracy: 0.8643 - val_loss: 0.4017 - val_accuracy: 0.8178 - lr: 1.0000e-08\n",
      "Epoch 72/100\n",
      "86/86 [==============================] - 0s 6ms/step - loss: 0.2981 - accuracy: 0.8640 - val_loss: 0.4023 - val_accuracy: 0.8163 - lr: 1.0000e-08\n",
      "Epoch 73/100\n",
      "86/86 [==============================] - 0s 5ms/step - loss: 0.2876 - accuracy: 0.8654 - val_loss: 0.4020 - val_accuracy: 0.8178 - lr: 1.0000e-08\n",
      "Epoch 74/100\n",
      "86/86 [==============================] - 0s 5ms/step - loss: 0.2850 - accuracy: 0.8705 - val_loss: 0.4028 - val_accuracy: 0.8163 - lr: 1.0000e-08\n",
      "Epoch 75/100\n",
      "86/86 [==============================] - 0s 5ms/step - loss: 0.2854 - accuracy: 0.8643 - val_loss: 0.4024 - val_accuracy: 0.8163 - lr: 1.0000e-08\n",
      "Epoch 76/100\n",
      "86/86 [==============================] - 0s 5ms/step - loss: 0.2885 - accuracy: 0.8687 - val_loss: 0.4022 - val_accuracy: 0.8163 - lr: 1.0000e-09\n",
      "Epoch 77/100\n",
      "86/86 [==============================] - 0s 5ms/step - loss: 0.2904 - accuracy: 0.8647 - val_loss: 0.4020 - val_accuracy: 0.8163 - lr: 1.0000e-09\n",
      "Epoch 78/100\n",
      "86/86 [==============================] - 0s 6ms/step - loss: 0.2869 - accuracy: 0.8687 - val_loss: 0.4023 - val_accuracy: 0.8163 - lr: 1.0000e-09\n",
      "Epoch 79/100\n",
      "86/86 [==============================] - 0s 6ms/step - loss: 0.2944 - accuracy: 0.8654 - val_loss: 0.4029 - val_accuracy: 0.8163 - lr: 1.0000e-09\n",
      "Epoch 80/100\n",
      "86/86 [==============================] - 0s 6ms/step - loss: 0.2854 - accuracy: 0.8654 - val_loss: 0.4031 - val_accuracy: 0.8163 - lr: 1.0000e-09\n",
      "Epoch 81/100\n",
      "86/86 [==============================] - 0s 5ms/step - loss: 0.2834 - accuracy: 0.8647 - val_loss: 0.4024 - val_accuracy: 0.8163 - lr: 1.0000e-09\n",
      "Epoch 82/100\n",
      "86/86 [==============================] - 0s 5ms/step - loss: 0.2870 - accuracy: 0.8603 - val_loss: 0.4029 - val_accuracy: 0.8178 - lr: 1.0000e-09\n",
      "Epoch 83/100\n",
      "86/86 [==============================] - 0s 5ms/step - loss: 0.2908 - accuracy: 0.8687 - val_loss: 0.4034 - val_accuracy: 0.8163 - lr: 1.0000e-09\n",
      "Epoch 84/100\n",
      "86/86 [==============================] - 0s 5ms/step - loss: 0.2868 - accuracy: 0.8662 - val_loss: 0.4025 - val_accuracy: 0.8163 - lr: 1.0000e-09\n",
      "Epoch 85/100\n",
      "86/86 [==============================] - 0s 5ms/step - loss: 0.2870 - accuracy: 0.8647 - val_loss: 0.4020 - val_accuracy: 0.8163 - lr: 1.0000e-09\n",
      "Epoch 86/100\n",
      "86/86 [==============================] - 1s 7ms/step - loss: 0.2912 - accuracy: 0.8662 - val_loss: 0.4024 - val_accuracy: 0.8163 - lr: 1.0000e-10\n",
      "Epoch 87/100\n",
      "86/86 [==============================] - 1s 6ms/step - loss: 0.2952 - accuracy: 0.8640 - val_loss: 0.4024 - val_accuracy: 0.8178 - lr: 1.0000e-10\n",
      "Epoch 88/100\n",
      "86/86 [==============================] - 1s 6ms/step - loss: 0.2862 - accuracy: 0.8753 - val_loss: 0.4026 - val_accuracy: 0.8163 - lr: 1.0000e-10\n",
      "Epoch 89/100\n",
      "86/86 [==============================] - 1s 6ms/step - loss: 0.2884 - accuracy: 0.8683 - val_loss: 0.4023 - val_accuracy: 0.8163 - lr: 1.0000e-10\n",
      "Epoch 90/100\n",
      "86/86 [==============================] - 1s 6ms/step - loss: 0.2833 - accuracy: 0.8640 - val_loss: 0.4024 - val_accuracy: 0.8163 - lr: 1.0000e-10\n",
      "Epoch 91/100\n",
      "86/86 [==============================] - 1s 6ms/step - loss: 0.2917 - accuracy: 0.8665 - val_loss: 0.4019 - val_accuracy: 0.8163 - lr: 1.0000e-10\n",
      "Epoch 92/100\n",
      "86/86 [==============================] - 1s 6ms/step - loss: 0.2848 - accuracy: 0.8680 - val_loss: 0.4017 - val_accuracy: 0.8178 - lr: 1.0000e-10\n",
      "Epoch 93/100\n",
      "86/86 [==============================] - 0s 5ms/step - loss: 0.2832 - accuracy: 0.8636 - val_loss: 0.4020 - val_accuracy: 0.8163 - lr: 1.0000e-10\n",
      "Epoch 94/100\n",
      "86/86 [==============================] - 0s 6ms/step - loss: 0.2918 - accuracy: 0.8578 - val_loss: 0.4018 - val_accuracy: 0.8163 - lr: 1.0000e-10\n",
      "Epoch 95/100\n",
      "86/86 [==============================] - 0s 6ms/step - loss: 0.2902 - accuracy: 0.8607 - val_loss: 0.4027 - val_accuracy: 0.8163 - lr: 1.0000e-10\n",
      "Epoch 96/100\n",
      "86/86 [==============================] - 0s 5ms/step - loss: 0.2900 - accuracy: 0.8632 - val_loss: 0.4031 - val_accuracy: 0.8163 - lr: 1.0000e-11\n",
      "Epoch 97/100\n",
      "86/86 [==============================] - 1s 6ms/step - loss: 0.2937 - accuracy: 0.8665 - val_loss: 0.4021 - val_accuracy: 0.8163 - lr: 1.0000e-11\n",
      "Epoch 98/100\n",
      "86/86 [==============================] - 0s 6ms/step - loss: 0.2869 - accuracy: 0.8691 - val_loss: 0.4017 - val_accuracy: 0.8178 - lr: 1.0000e-11\n",
      "Epoch 99/100\n",
      "86/86 [==============================] - 1s 6ms/step - loss: 0.2891 - accuracy: 0.8705 - val_loss: 0.4020 - val_accuracy: 0.8178 - lr: 1.0000e-11\n",
      "Epoch 100/100\n",
      "86/86 [==============================] - 1s 6ms/step - loss: 0.2875 - accuracy: 0.8665 - val_loss: 0.4020 - val_accuracy: 0.8163 - lr: 1.0000e-11\n"
     ]
    }
   ],
   "source": [
    "inputs = tf.keras.Input(shape=(num_features,))\n",
    "x = tf.keras.layers.Dense(128, activation='relu')(inputs)\n",
    "\n",
    "x = tf.keras.layers.Dense(128, activation='relu')(x)\n",
    "x = tf.keras.layers.BatchNormalization()(x)\n",
    "x = tf.keras.layers.Dropout(0.3)(x)\n",
    "\n",
    "x = tf.keras.layers.Dense(64, activation='relu')(x)\n",
    "x = tf.keras.layers.BatchNormalization()(x)\n",
    "x = tf.keras.layers.Dropout(0.3)(x)\n",
    "\n",
    "x = tf.keras.layers.Dense(32, activation='relu')(x)\n",
    "x = tf.keras.layers.BatchNormalization()(x)\n",
    "x = tf.keras.layers.Dropout(0.3)(x)\n",
    "\n",
    "outputs = tf.keras.layers.Dense(num_classes, activation='softmax')(x)\n",
    "\n",
    "model = tf.keras.Model(inputs=inputs, outputs=outputs)\n",
    "\n",
    "model.compile(\n",
    "    optimizer='adam',\n",
    "    loss='sparse_categorical_crossentropy',\n",
    "    metrics=['accuracy']\n",
    ")\n",
    "\n",
    "batch_size = 32\n",
    "epochs = 100\n",
    "\n",
    "history = model.fit(\n",
    "    X_train,\n",
    "    y_train,\n",
    "    validation_split=0.2,\n",
    "    batch_size=batch_size,\n",
    "    epochs=epochs,\n",
    "    callbacks=[tf.keras.callbacks.ReduceLROnPlateau()]\n",
    ")"
   ]
  },
  {
   "cell_type": "markdown",
   "metadata": {
    "papermill": {
     "duration": 0.194339,
     "end_time": "2020-10-03T16:52:35.023512",
     "exception": false,
     "start_time": "2020-10-03T16:52:34.829173",
     "status": "completed"
    },
    "tags": []
   },
   "source": [
    "# Results"
   ]
  },
  {
   "cell_type": "code",
   "execution_count": 44,
   "metadata": {
    "execution": {
     "iopub.execute_input": "2020-10-03T16:52:35.426443Z",
     "iopub.status.busy": "2020-10-03T16:52:35.425621Z",
     "iopub.status.idle": "2020-10-03T16:52:36.611586Z",
     "shell.execute_reply": "2020-10-03T16:52:36.612148Z"
    },
    "papermill": {
     "duration": 1.390792,
     "end_time": "2020-10-03T16:52:36.612333",
     "exception": false,
     "start_time": "2020-10-03T16:52:35.221541",
     "status": "completed"
    },
    "tags": []
   },
   "outputs": [
    {
     "data": {
      "application/vnd.plotly.v1+json": {
       "config": {
        "plotlyServerURL": "https://plot.ly"
       },
       "data": [
        {
         "hovertemplate": "variable=loss<br>index=%{x}<br>value=%{y}<extra></extra>",
         "legendgroup": "loss",
         "line": {
          "color": "#636efa",
          "dash": "solid"
         },
         "marker": {
          "symbol": "circle"
         },
         "mode": "lines",
         "name": "loss",
         "orientation": "v",
         "showlegend": true,
         "type": "scatter",
         "x": [
          0,
          1,
          2,
          3,
          4,
          5,
          6,
          7,
          8,
          9,
          10,
          11,
          12,
          13,
          14,
          15,
          16,
          17,
          18,
          19,
          20,
          21,
          22,
          23,
          24,
          25,
          26,
          27,
          28,
          29,
          30,
          31,
          32,
          33,
          34,
          35,
          36,
          37,
          38,
          39,
          40,
          41,
          42,
          43,
          44,
          45,
          46,
          47,
          48,
          49,
          50,
          51,
          52,
          53,
          54,
          55,
          56,
          57,
          58,
          59,
          60,
          61,
          62,
          63,
          64,
          65,
          66,
          67,
          68,
          69,
          70,
          71,
          72,
          73,
          74,
          75,
          76,
          77,
          78,
          79,
          80,
          81,
          82,
          83,
          84,
          85,
          86,
          87,
          88,
          89,
          90,
          91,
          92,
          93,
          94,
          95,
          96,
          97,
          98,
          99
         ],
         "xaxis": "x",
         "y": [
          0.7758762240409851,
          0.543281078338623,
          0.4901508688926697,
          0.43880391120910645,
          0.4293939769268036,
          0.415376216173172,
          0.40426385402679443,
          0.3926710784435272,
          0.3741012513637543,
          0.3796737492084503,
          0.3785364329814911,
          0.3799077868461609,
          0.3645668029785156,
          0.35101622343063354,
          0.35340914130210876,
          0.35462528467178345,
          0.3364426791667938,
          0.34355655312538147,
          0.34044280648231506,
          0.3393305242061615,
          0.3368948996067047,
          0.3242987394332886,
          0.3201461434364319,
          0.3175485134124756,
          0.3110368251800537,
          0.3064505159854889,
          0.2980910837650299,
          0.3067033290863037,
          0.30004143714904785,
          0.29834243655204773,
          0.29122763872146606,
          0.29593563079833984,
          0.2986904978752136,
          0.2964608073234558,
          0.2999715805053711,
          0.2866349518299103,
          0.2940821051597595,
          0.290172278881073,
          0.30374038219451904,
          0.2871731221675873,
          0.29054784774780273,
          0.2948572039604187,
          0.2898920476436615,
          0.2967051863670349,
          0.2992878556251526,
          0.2969536781311035,
          0.2958435118198395,
          0.27847832441329956,
          0.28935277462005615,
          0.29523199796676636,
          0.2880452573299408,
          0.28191569447517395,
          0.29359492659568787,
          0.2851369380950928,
          0.2890179455280304,
          0.2853836417198181,
          0.2764158248901367,
          0.2964394688606262,
          0.29037877917289734,
          0.28870564699172974,
          0.2925306260585785,
          0.2895301878452301,
          0.29145684838294983,
          0.2841207683086395,
          0.2839803695678711,
          0.28903546929359436,
          0.29252439737319946,
          0.2810314893722534,
          0.2862568497657776,
          0.279397189617157,
          0.29013320803642273,
          0.29806414246559143,
          0.2876027226448059,
          0.2850361764431,
          0.285381019115448,
          0.28853219747543335,
          0.2903909981250763,
          0.28692570328712463,
          0.2944360375404358,
          0.28542667627334595,
          0.2834433317184448,
          0.2870238423347473,
          0.2908221185207367,
          0.28678420186042786,
          0.2870439291000366,
          0.29116949439048767,
          0.2951664924621582,
          0.28618350625038147,
          0.28835058212280273,
          0.2832891047000885,
          0.2917234003543854,
          0.28478333353996277,
          0.2831648290157318,
          0.29176369309425354,
          0.2901952564716339,
          0.28995031118392944,
          0.2937062978744507,
          0.2869129180908203,
          0.2890740633010864,
          0.2874701917171478
         ],
         "yaxis": "y"
        },
        {
         "hovertemplate": "variable=val_loss<br>index=%{x}<br>value=%{y}<extra></extra>",
         "legendgroup": "val_loss",
         "line": {
          "color": "#EF553B",
          "dash": "solid"
         },
         "marker": {
          "symbol": "circle"
         },
         "mode": "lines",
         "name": "val_loss",
         "orientation": "v",
         "showlegend": true,
         "type": "scatter",
         "x": [
          0,
          1,
          2,
          3,
          4,
          5,
          6,
          7,
          8,
          9,
          10,
          11,
          12,
          13,
          14,
          15,
          16,
          17,
          18,
          19,
          20,
          21,
          22,
          23,
          24,
          25,
          26,
          27,
          28,
          29,
          30,
          31,
          32,
          33,
          34,
          35,
          36,
          37,
          38,
          39,
          40,
          41,
          42,
          43,
          44,
          45,
          46,
          47,
          48,
          49,
          50,
          51,
          52,
          53,
          54,
          55,
          56,
          57,
          58,
          59,
          60,
          61,
          62,
          63,
          64,
          65,
          66,
          67,
          68,
          69,
          70,
          71,
          72,
          73,
          74,
          75,
          76,
          77,
          78,
          79,
          80,
          81,
          82,
          83,
          84,
          85,
          86,
          87,
          88,
          89,
          90,
          91,
          92,
          93,
          94,
          95,
          96,
          97,
          98,
          99
         ],
         "xaxis": "x",
         "y": [
          0.48913970589637756,
          0.4542294144630432,
          0.4421267509460449,
          0.4259571135044098,
          0.4147234857082367,
          0.41471973061561584,
          0.41578757762908936,
          0.40549057722091675,
          0.4065212309360504,
          0.4003467559814453,
          0.3948095440864563,
          0.3952769637107849,
          0.4025082588195801,
          0.4030211567878723,
          0.41517603397369385,
          0.40417271852493286,
          0.3968941867351532,
          0.3981513977050781,
          0.4058742821216583,
          0.39778515696525574,
          0.397164911031723,
          0.3929564952850342,
          0.39214304089546204,
          0.39197155833244324,
          0.390807569026947,
          0.391892671585083,
          0.39383023977279663,
          0.3956444263458252,
          0.3956185281276703,
          0.3965740203857422,
          0.39943718910217285,
          0.40433016419410706,
          0.4062148630619049,
          0.404266357421875,
          0.40337610244750977,
          0.4035411775112152,
          0.40322035551071167,
          0.40382784605026245,
          0.40285930037498474,
          0.4035651981830597,
          0.40414291620254517,
          0.40243276953697205,
          0.40234729647636414,
          0.4025508463382721,
          0.4019209146499634,
          0.40233561396598816,
          0.4018700122833252,
          0.40188220143318176,
          0.40247049927711487,
          0.40254753828048706,
          0.40195271372795105,
          0.4021519124507904,
          0.40267080068588257,
          0.40222376585006714,
          0.40209609270095825,
          0.4025765061378479,
          0.4018494188785553,
          0.40223366022109985,
          0.40175387263298035,
          0.4019482135772705,
          0.40216580033302307,
          0.40138062834739685,
          0.40114542841911316,
          0.40120044350624084,
          0.4015234708786011,
          0.40233898162841797,
          0.4021272659301758,
          0.4022781252861023,
          0.40162259340286255,
          0.40095293521881104,
          0.40174874663352966,
          0.40229588747024536,
          0.40200290083885193,
          0.40284863114356995,
          0.4023747444152832,
          0.40218183398246765,
          0.4020160734653473,
          0.40225544571876526,
          0.40288448333740234,
          0.40305981040000916,
          0.40235352516174316,
          0.4028649926185608,
          0.40343305468559265,
          0.40249842405319214,
          0.40200966596603394,
          0.40240922570228577,
          0.4023861885070801,
          0.4025534689426422,
          0.4022746980190277,
          0.40239962935447693,
          0.401910662651062,
          0.40171146392822266,
          0.4019712805747986,
          0.40184715390205383,
          0.4026511013507843,
          0.4030715823173523,
          0.402123361825943,
          0.40169474482536316,
          0.40203994512557983,
          0.4019632935523987
         ],
         "yaxis": "y"
        }
       ],
       "layout": {
        "legend": {
         "title": {
          "text": "variable"
         },
         "tracegroupgap": 0
        },
        "template": {
         "data": {
          "bar": [
           {
            "error_x": {
             "color": "#2a3f5f"
            },
            "error_y": {
             "color": "#2a3f5f"
            },
            "marker": {
             "line": {
              "color": "#E5ECF6",
              "width": 0.5
             },
             "pattern": {
              "fillmode": "overlay",
              "size": 10,
              "solidity": 0.2
             }
            },
            "type": "bar"
           }
          ],
          "barpolar": [
           {
            "marker": {
             "line": {
              "color": "#E5ECF6",
              "width": 0.5
             },
             "pattern": {
              "fillmode": "overlay",
              "size": 10,
              "solidity": 0.2
             }
            },
            "type": "barpolar"
           }
          ],
          "carpet": [
           {
            "aaxis": {
             "endlinecolor": "#2a3f5f",
             "gridcolor": "white",
             "linecolor": "white",
             "minorgridcolor": "white",
             "startlinecolor": "#2a3f5f"
            },
            "baxis": {
             "endlinecolor": "#2a3f5f",
             "gridcolor": "white",
             "linecolor": "white",
             "minorgridcolor": "white",
             "startlinecolor": "#2a3f5f"
            },
            "type": "carpet"
           }
          ],
          "choropleth": [
           {
            "colorbar": {
             "outlinewidth": 0,
             "ticks": ""
            },
            "type": "choropleth"
           }
          ],
          "contour": [
           {
            "colorbar": {
             "outlinewidth": 0,
             "ticks": ""
            },
            "colorscale": [
             [
              0,
              "#0d0887"
             ],
             [
              0.1111111111111111,
              "#46039f"
             ],
             [
              0.2222222222222222,
              "#7201a8"
             ],
             [
              0.3333333333333333,
              "#9c179e"
             ],
             [
              0.4444444444444444,
              "#bd3786"
             ],
             [
              0.5555555555555556,
              "#d8576b"
             ],
             [
              0.6666666666666666,
              "#ed7953"
             ],
             [
              0.7777777777777778,
              "#fb9f3a"
             ],
             [
              0.8888888888888888,
              "#fdca26"
             ],
             [
              1,
              "#f0f921"
             ]
            ],
            "type": "contour"
           }
          ],
          "contourcarpet": [
           {
            "colorbar": {
             "outlinewidth": 0,
             "ticks": ""
            },
            "type": "contourcarpet"
           }
          ],
          "heatmap": [
           {
            "colorbar": {
             "outlinewidth": 0,
             "ticks": ""
            },
            "colorscale": [
             [
              0,
              "#0d0887"
             ],
             [
              0.1111111111111111,
              "#46039f"
             ],
             [
              0.2222222222222222,
              "#7201a8"
             ],
             [
              0.3333333333333333,
              "#9c179e"
             ],
             [
              0.4444444444444444,
              "#bd3786"
             ],
             [
              0.5555555555555556,
              "#d8576b"
             ],
             [
              0.6666666666666666,
              "#ed7953"
             ],
             [
              0.7777777777777778,
              "#fb9f3a"
             ],
             [
              0.8888888888888888,
              "#fdca26"
             ],
             [
              1,
              "#f0f921"
             ]
            ],
            "type": "heatmap"
           }
          ],
          "heatmapgl": [
           {
            "colorbar": {
             "outlinewidth": 0,
             "ticks": ""
            },
            "colorscale": [
             [
              0,
              "#0d0887"
             ],
             [
              0.1111111111111111,
              "#46039f"
             ],
             [
              0.2222222222222222,
              "#7201a8"
             ],
             [
              0.3333333333333333,
              "#9c179e"
             ],
             [
              0.4444444444444444,
              "#bd3786"
             ],
             [
              0.5555555555555556,
              "#d8576b"
             ],
             [
              0.6666666666666666,
              "#ed7953"
             ],
             [
              0.7777777777777778,
              "#fb9f3a"
             ],
             [
              0.8888888888888888,
              "#fdca26"
             ],
             [
              1,
              "#f0f921"
             ]
            ],
            "type": "heatmapgl"
           }
          ],
          "histogram": [
           {
            "marker": {
             "pattern": {
              "fillmode": "overlay",
              "size": 10,
              "solidity": 0.2
             }
            },
            "type": "histogram"
           }
          ],
          "histogram2d": [
           {
            "colorbar": {
             "outlinewidth": 0,
             "ticks": ""
            },
            "colorscale": [
             [
              0,
              "#0d0887"
             ],
             [
              0.1111111111111111,
              "#46039f"
             ],
             [
              0.2222222222222222,
              "#7201a8"
             ],
             [
              0.3333333333333333,
              "#9c179e"
             ],
             [
              0.4444444444444444,
              "#bd3786"
             ],
             [
              0.5555555555555556,
              "#d8576b"
             ],
             [
              0.6666666666666666,
              "#ed7953"
             ],
             [
              0.7777777777777778,
              "#fb9f3a"
             ],
             [
              0.8888888888888888,
              "#fdca26"
             ],
             [
              1,
              "#f0f921"
             ]
            ],
            "type": "histogram2d"
           }
          ],
          "histogram2dcontour": [
           {
            "colorbar": {
             "outlinewidth": 0,
             "ticks": ""
            },
            "colorscale": [
             [
              0,
              "#0d0887"
             ],
             [
              0.1111111111111111,
              "#46039f"
             ],
             [
              0.2222222222222222,
              "#7201a8"
             ],
             [
              0.3333333333333333,
              "#9c179e"
             ],
             [
              0.4444444444444444,
              "#bd3786"
             ],
             [
              0.5555555555555556,
              "#d8576b"
             ],
             [
              0.6666666666666666,
              "#ed7953"
             ],
             [
              0.7777777777777778,
              "#fb9f3a"
             ],
             [
              0.8888888888888888,
              "#fdca26"
             ],
             [
              1,
              "#f0f921"
             ]
            ],
            "type": "histogram2dcontour"
           }
          ],
          "mesh3d": [
           {
            "colorbar": {
             "outlinewidth": 0,
             "ticks": ""
            },
            "type": "mesh3d"
           }
          ],
          "parcoords": [
           {
            "line": {
             "colorbar": {
              "outlinewidth": 0,
              "ticks": ""
             }
            },
            "type": "parcoords"
           }
          ],
          "pie": [
           {
            "automargin": true,
            "type": "pie"
           }
          ],
          "scatter": [
           {
            "fillpattern": {
             "fillmode": "overlay",
             "size": 10,
             "solidity": 0.2
            },
            "type": "scatter"
           }
          ],
          "scatter3d": [
           {
            "line": {
             "colorbar": {
              "outlinewidth": 0,
              "ticks": ""
             }
            },
            "marker": {
             "colorbar": {
              "outlinewidth": 0,
              "ticks": ""
             }
            },
            "type": "scatter3d"
           }
          ],
          "scattercarpet": [
           {
            "marker": {
             "colorbar": {
              "outlinewidth": 0,
              "ticks": ""
             }
            },
            "type": "scattercarpet"
           }
          ],
          "scattergeo": [
           {
            "marker": {
             "colorbar": {
              "outlinewidth": 0,
              "ticks": ""
             }
            },
            "type": "scattergeo"
           }
          ],
          "scattergl": [
           {
            "marker": {
             "colorbar": {
              "outlinewidth": 0,
              "ticks": ""
             }
            },
            "type": "scattergl"
           }
          ],
          "scattermapbox": [
           {
            "marker": {
             "colorbar": {
              "outlinewidth": 0,
              "ticks": ""
             }
            },
            "type": "scattermapbox"
           }
          ],
          "scatterpolar": [
           {
            "marker": {
             "colorbar": {
              "outlinewidth": 0,
              "ticks": ""
             }
            },
            "type": "scatterpolar"
           }
          ],
          "scatterpolargl": [
           {
            "marker": {
             "colorbar": {
              "outlinewidth": 0,
              "ticks": ""
             }
            },
            "type": "scatterpolargl"
           }
          ],
          "scatterternary": [
           {
            "marker": {
             "colorbar": {
              "outlinewidth": 0,
              "ticks": ""
             }
            },
            "type": "scatterternary"
           }
          ],
          "surface": [
           {
            "colorbar": {
             "outlinewidth": 0,
             "ticks": ""
            },
            "colorscale": [
             [
              0,
              "#0d0887"
             ],
             [
              0.1111111111111111,
              "#46039f"
             ],
             [
              0.2222222222222222,
              "#7201a8"
             ],
             [
              0.3333333333333333,
              "#9c179e"
             ],
             [
              0.4444444444444444,
              "#bd3786"
             ],
             [
              0.5555555555555556,
              "#d8576b"
             ],
             [
              0.6666666666666666,
              "#ed7953"
             ],
             [
              0.7777777777777778,
              "#fb9f3a"
             ],
             [
              0.8888888888888888,
              "#fdca26"
             ],
             [
              1,
              "#f0f921"
             ]
            ],
            "type": "surface"
           }
          ],
          "table": [
           {
            "cells": {
             "fill": {
              "color": "#EBF0F8"
             },
             "line": {
              "color": "white"
             }
            },
            "header": {
             "fill": {
              "color": "#C8D4E3"
             },
             "line": {
              "color": "white"
             }
            },
            "type": "table"
           }
          ]
         },
         "layout": {
          "annotationdefaults": {
           "arrowcolor": "#2a3f5f",
           "arrowhead": 0,
           "arrowwidth": 1
          },
          "autotypenumbers": "strict",
          "coloraxis": {
           "colorbar": {
            "outlinewidth": 0,
            "ticks": ""
           }
          },
          "colorscale": {
           "diverging": [
            [
             0,
             "#8e0152"
            ],
            [
             0.1,
             "#c51b7d"
            ],
            [
             0.2,
             "#de77ae"
            ],
            [
             0.3,
             "#f1b6da"
            ],
            [
             0.4,
             "#fde0ef"
            ],
            [
             0.5,
             "#f7f7f7"
            ],
            [
             0.6,
             "#e6f5d0"
            ],
            [
             0.7,
             "#b8e186"
            ],
            [
             0.8,
             "#7fbc41"
            ],
            [
             0.9,
             "#4d9221"
            ],
            [
             1,
             "#276419"
            ]
           ],
           "sequential": [
            [
             0,
             "#0d0887"
            ],
            [
             0.1111111111111111,
             "#46039f"
            ],
            [
             0.2222222222222222,
             "#7201a8"
            ],
            [
             0.3333333333333333,
             "#9c179e"
            ],
            [
             0.4444444444444444,
             "#bd3786"
            ],
            [
             0.5555555555555556,
             "#d8576b"
            ],
            [
             0.6666666666666666,
             "#ed7953"
            ],
            [
             0.7777777777777778,
             "#fb9f3a"
            ],
            [
             0.8888888888888888,
             "#fdca26"
            ],
            [
             1,
             "#f0f921"
            ]
           ],
           "sequentialminus": [
            [
             0,
             "#0d0887"
            ],
            [
             0.1111111111111111,
             "#46039f"
            ],
            [
             0.2222222222222222,
             "#7201a8"
            ],
            [
             0.3333333333333333,
             "#9c179e"
            ],
            [
             0.4444444444444444,
             "#bd3786"
            ],
            [
             0.5555555555555556,
             "#d8576b"
            ],
            [
             0.6666666666666666,
             "#ed7953"
            ],
            [
             0.7777777777777778,
             "#fb9f3a"
            ],
            [
             0.8888888888888888,
             "#fdca26"
            ],
            [
             1,
             "#f0f921"
            ]
           ]
          },
          "colorway": [
           "#636efa",
           "#EF553B",
           "#00cc96",
           "#ab63fa",
           "#FFA15A",
           "#19d3f3",
           "#FF6692",
           "#B6E880",
           "#FF97FF",
           "#FECB52"
          ],
          "font": {
           "color": "#2a3f5f"
          },
          "geo": {
           "bgcolor": "white",
           "lakecolor": "white",
           "landcolor": "#E5ECF6",
           "showlakes": true,
           "showland": true,
           "subunitcolor": "white"
          },
          "hoverlabel": {
           "align": "left"
          },
          "hovermode": "closest",
          "mapbox": {
           "style": "light"
          },
          "paper_bgcolor": "white",
          "plot_bgcolor": "#E5ECF6",
          "polar": {
           "angularaxis": {
            "gridcolor": "white",
            "linecolor": "white",
            "ticks": ""
           },
           "bgcolor": "#E5ECF6",
           "radialaxis": {
            "gridcolor": "white",
            "linecolor": "white",
            "ticks": ""
           }
          },
          "scene": {
           "xaxis": {
            "backgroundcolor": "#E5ECF6",
            "gridcolor": "white",
            "gridwidth": 2,
            "linecolor": "white",
            "showbackground": true,
            "ticks": "",
            "zerolinecolor": "white"
           },
           "yaxis": {
            "backgroundcolor": "#E5ECF6",
            "gridcolor": "white",
            "gridwidth": 2,
            "linecolor": "white",
            "showbackground": true,
            "ticks": "",
            "zerolinecolor": "white"
           },
           "zaxis": {
            "backgroundcolor": "#E5ECF6",
            "gridcolor": "white",
            "gridwidth": 2,
            "linecolor": "white",
            "showbackground": true,
            "ticks": "",
            "zerolinecolor": "white"
           }
          },
          "shapedefaults": {
           "line": {
            "color": "#2a3f5f"
           }
          },
          "ternary": {
           "aaxis": {
            "gridcolor": "white",
            "linecolor": "white",
            "ticks": ""
           },
           "baxis": {
            "gridcolor": "white",
            "linecolor": "white",
            "ticks": ""
           },
           "bgcolor": "#E5ECF6",
           "caxis": {
            "gridcolor": "white",
            "linecolor": "white",
            "ticks": ""
           }
          },
          "title": {
           "x": 0.05
          },
          "xaxis": {
           "automargin": true,
           "gridcolor": "white",
           "linecolor": "white",
           "ticks": "",
           "title": {
            "standoff": 15
           },
           "zerolinecolor": "white",
           "zerolinewidth": 2
          },
          "yaxis": {
           "automargin": true,
           "gridcolor": "white",
           "linecolor": "white",
           "ticks": "",
           "title": {
            "standoff": 15
           },
           "zerolinecolor": "white",
           "zerolinewidth": 2
          }
         }
        },
        "title": {
         "text": "Loss Over Time"
        },
        "xaxis": {
         "anchor": "y",
         "domain": [
          0,
          1
         ],
         "title": {
          "text": "index"
         }
        },
        "yaxis": {
         "anchor": "x",
         "domain": [
          0,
          1
         ],
         "title": {
          "text": "value"
         }
        }
       }
      }
     },
     "metadata": {},
     "output_type": "display_data"
    }
   ],
   "source": [
    "fig = px.line(\n",
    "    history.history,\n",
    "    y=['loss', 'val_loss'],\n",
    "    labels={'x': \"Epoch\", 'y': \"Loss\"},\n",
    "    title=\"Loss Over Time\"\n",
    ")\n",
    "\n",
    "fig.show()"
   ]
  },
  {
   "cell_type": "code",
   "execution_count": 45,
   "metadata": {
    "execution": {
     "iopub.execute_input": "2020-10-03T16:52:37.021168Z",
     "iopub.status.busy": "2020-10-03T16:52:37.020353Z",
     "iopub.status.idle": "2020-10-03T16:52:37.141589Z",
     "shell.execute_reply": "2020-10-03T16:52:37.142305Z"
    },
    "papermill": {
     "duration": 0.335324,
     "end_time": "2020-10-03T16:52:37.142479",
     "exception": false,
     "start_time": "2020-10-03T16:52:36.807155",
     "status": "completed"
    },
    "tags": []
   },
   "outputs": [
    {
     "name": "stdout",
     "output_type": "stream",
     "text": [
      "46/46 [==============================] - 0s 3ms/step - loss: 0.3742 - accuracy: 0.8408\n"
     ]
    },
    {
     "data": {
      "text/plain": [
       "[0.37424132227897644, 0.8408163189888]"
      ]
     },
     "execution_count": 45,
     "metadata": {},
     "output_type": "execute_result"
    }
   ],
   "source": [
    "model.evaluate(X_test, y_test)"
   ]
  }
 ],
 "metadata": {
  "kernelspec": {
   "display_name": "Python 3",
   "language": "python",
   "name": "python3"
  },
  "language_info": {
   "codemirror_mode": {
    "name": "ipython",
    "version": 3
   },
   "file_extension": ".py",
   "mimetype": "text/x-python",
   "name": "python",
   "nbconvert_exporter": "python",
   "pygments_lexer": "ipython3",
   "version": "3.8.15"
  },
  "papermill": {
   "duration": 60.183045,
   "end_time": "2020-10-03T16:53:00.414087",
   "environment_variables": {},
   "exception": null,
   "input_path": "__notebook__.ipynb",
   "output_path": "__notebook__.ipynb",
   "parameters": {},
   "start_time": "2020-10-03T16:52:00.231042",
   "version": "2.1.0"
  }
 },
 "nbformat": 4,
 "nbformat_minor": 4
}
